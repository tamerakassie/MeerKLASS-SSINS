{
 "cells": [
  {
   "cell_type": "code",
   "execution_count": null,
   "id": "623a8489-5ed2-4c24-8de3-a8e5a3cb2baf",
   "metadata": {},
   "outputs": [],
   "source": []
  },
  {
   "cell_type": "markdown",
   "id": "79ff7ed4-906d-4e34-a45f-69029822691f",
   "metadata": {
    "tags": []
   },
   "source": [
    "## **MeerKLASS-SSINS Project**\n",
    "\n",
    "The following notebook serves as a summary of the progress made to date in the MeerKLASS Radio Frequency Interference (RFI) detection project using the SSINS (Sky-Subtracted Incoherent Noise Spectra) framework.\n",
    "\n",
    " \n",
    "\n"
   ]
  },
  {
   "cell_type": "markdown",
   "id": "544786b2-6527-4a6c-b7b3-947f2e9d26ce",
   "metadata": {},
   "source": [
    "### **Table of Contents**\n",
    "* [SSINS: Radio Frequency Interference (RFI) Flagging Software ](#SSINS)\n",
    "    * [SSINS Framework](#section_1_1)\n",
    "    * [Sky- Subtraction](#section_1_2)\n",
    "      * [Work Done Sky- Subtraction](#section_1_1_1)\n",
    "    * [Incoherent Noise Spectrum](#section_1_3)\n",
    "        \n"
   ]
  },
  {
   "cell_type": "markdown",
   "id": "90c5e860-7fec-407b-9998-6954be16eb16",
   "metadata": {
    "tags": []
   },
   "source": [
    "#### **1. SSINS: Radio Frequency Interference (RFI) Flagging Software** <a class=\"anchor\" id=\"SSINS\"></a>\n",
    "\n",
    "SSINS (Sky-Subtracted Incoherent Noise Spectra) is an RFI flagging software that was developed for the MWA (Murchison Widefield Array) Radio Interferometer. The software was created such that the SSINS algorithmn can be suitably adjusted and applied to any other radio telescope, on a premise that your goal is to address the challenge of  detecting and removing faint RFI in radio telescope observations. Faint RFI lies below the single baseline sensitivity of an array, and it often goes undetected by general purpose  RFI Flaggers, such as AOFlagger. \n",
    "\n",
    "\n",
    "\n",
    "#### **1.1. SSINS Framework**  <a class=\"anchor\" id=\"section_1_1\"></a>\n",
    "\n",
    "SSINS is an RFI flagger that is particularly skilled at detecting faint RFI. The software performs flagging on a season of observational data, ie a single dynamic spectrum of an observation. \n",
    "Intial steps of the flagger includes \n",
    "\n",
    "#### **1.2. Sky-Sbtraction**  <a class=\"anchor\" id=\"section_1_2\"></a>\n",
    "\n",
    "\n",
    "Sky-Subtraction involves removing the bright astrophysical sky signal from observational data. This is done to promote sensitivity of the remaining/underlying signal of the data. This particular boost of sensitivty, achieved by subtracting the bright sky signal is required by the SSINS framework, as it will allow the software to become sensitive to faint RFI in observational data. \n",
    "\n",
    "#### **1.1.1. Work Done Sky-Subtraction** <a class=\"anchor\" id=\"section_1_1_1\"></a>\n",
    "\n",
    "In the current work on creating the sky-subtraction,  we use the 2021 MeerKLASS observational Data, the specific observational block investigated for performing the sky-subtraction was 1630519596. This is an L-band observation. The visibility data is unpacked in the form of time and frequency axes of real valued visibility amplitudes.\n",
    "\n",
    "\n",
    "The method of sky-subtraction that we use, is based on the sky-subtraction method discussed in the SSINS paper. The sky-subtraction method that we use involves subtracting adjacent time slices of the visibility data. The argument for performing subsequent subtraction of adjacent time slices, is based on having a slowly moving sky with respect to the sampling interval of the visibility cadence of the radio telescope. The visibility cadence is the time interval between consecutive visbility measurements in an observation. Since the sky is slowing varying as compared to time interval between consecutive visibility measurements, if we simply take the time differences of the visibilities between consecutive samples we can effectively remove the astrophysical sky signal.\n",
    "\n",
    "The sky-subtracted visibilities is given by:\n",
    "***\n",
    "$\\Delta V_{ij}(t_n, v, p) = V_{ij}(t_{n+1}, v, p) - V_{ij}(t_n, v, p)$ \n",
    "***\n",
    "\n",
    "For our particular visibility data we perform the sky-subtraction, by taking an element-wise subtraction between consecutive timestamps of the visibility data. The visibility data that we are using is uncalibrated, however for the MeerKLASS observations they have fired noise diodes during the course of the observation. The first attempt of the sky-subtratction involved firing out the noise-diodes and thereafter performimg theelement-wise sky-subtraction. However this was not a good practise due to the discountities that had been introduced by effectively removing noise diodes from the data. A better approach that we had taken was to aviod discountinuties in the data whilst managing 'unwanted data', ie noise diodes, level0 flags.\n",
    "\n",
    "Discontinuties present in the data, lead to inaccurate sky-subtractions\n",
    "\n",
    "\n",
    "In order to maintain the visbility data continuity we created a masked array, the masked array will hold the data and its associated flags, we have dealt with the noise diodes by flagging the noise diode time injections in the data.\n",
    "\n",
    "\n",
    "\n",
    "\n",
    "\n",
    "\n",
    "\n",
    "\n",
    "\n",
    "\n",
    "\n",
    "\n",
    "\n",
    "#### **1.3 Incoherent Noise Spectrum** <a class=\"anchor\" id=\"section_1_3\"></a>\n",
    "\n",
    "\n",
    "\n"
   ]
  },
  {
   "cell_type": "markdown",
   "id": "714cb9a4-1f96-4091-82c5-a9a4c2df6a26",
   "metadata": {},
   "source": [
    "#### **References**\n"
   ]
  },
  {
   "cell_type": "code",
   "execution_count": null,
   "id": "924aae86-0b46-41cb-88dd-85ce3b3f044b",
   "metadata": {},
   "outputs": [],
   "source": []
  },
  {
   "cell_type": "markdown",
   "id": "c1d3d39d-2972-4a84-834a-31020f39f9da",
   "metadata": {},
   "source": [
    "The goal of the work is to create  a dynamic spectrum, the dynamic spectrum will effectively be the incohernt noise spectrum\n",
    "\n",
    "To be added:\n",
    "\n",
    "1. Reason why we had to consider the discontinuties, that was caused by firing out the noise diodes. \n",
    "2. Explain the idea of the subsequcnt time subtractions, like what does this look mathematically,    shape of the data etc.\n",
    "\n",
    "3. Add a description explaing the logic of the flags in the masked array."
   ]
  },
  {
   "cell_type": "code",
   "execution_count": null,
   "id": "6a3b24b8-1cc5-414c-96c8-a72f6e99aa8f",
   "metadata": {},
   "outputs": [],
   "source": []
  }
 ],
 "metadata": {
  "kernelspec": {
   "display_name": "katcal_py3 (public)",
   "language": "python",
   "name": "katcal-py3"
  },
  "language_info": {
   "codemirror_mode": {
    "name": "ipython",
    "version": 3
   },
   "file_extension": ".py",
   "mimetype": "text/x-python",
   "name": "python",
   "nbconvert_exporter": "python",
   "pygments_lexer": "ipython3",
   "version": "3.6.9"
  }
 },
 "nbformat": 4,
 "nbformat_minor": 5
}
